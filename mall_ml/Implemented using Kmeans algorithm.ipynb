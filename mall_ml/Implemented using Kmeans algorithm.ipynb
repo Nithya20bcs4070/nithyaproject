{
 "cells": [
  {
   "cell_type": "code",
   "execution_count": 2,
   "id": "ecc48614-a0ae-4e7c-b092-782bb6aa37e4",
   "metadata": {},
   "outputs": [],
   "source": [
    "import numpy as np    \n",
    "import matplotlib.pyplot as plt   \n",
    "import pandas as pd    \n",
    "from sklearn.datasets import make_blobs"
   ]
  },
  {
   "cell_type": "code",
   "execution_count": 3,
   "id": "a02a7afd-9ff6-40ce-9d09-856401cf33a1",
   "metadata": {},
   "outputs": [],
   "source": [
    "dataset = make_blobs(n_samples = 50,\n",
    "                     centers=4,\n",
    "                     n_features = 11,\n",
    "                     cluster_std=1.6,\n",
    "                     random_state=15)"
   ]
  },
  {
   "cell_type": "code",
   "execution_count": 4,
   "id": "bf2e7819-f562-48fe-8a8a-a4c2a21acee5",
   "metadata": {},
   "outputs": [
    {
     "name": "stdout",
     "output_type": "stream",
     "text": [
      "(array([[ -3.04489586,   5.83037758,   6.16323067,   2.71999401,\n",
      "         -1.6396924 ,  -7.29862122,  -9.95273386,  -7.30045753,\n",
      "         -7.67671585,   9.37832509,  -4.96283056],\n",
      "       [  9.01077742,  -6.29251606,  -9.58144086,  -3.99635035,\n",
      "         -3.48147566,  -2.0023103 ,  -4.38406212,  -4.89526821,\n",
      "         -8.40354931,  -5.51172205,   6.46326924],\n",
      "       [ -2.71712113,   5.57109268,   5.65696918,   7.11857338,\n",
      "         -5.92478291,  -6.02251562, -11.2145713 , -11.03363681,\n",
      "         -6.56110491,  11.6611115 ,  -3.30737028],\n",
      "       [  5.03554083,  -3.94507644, -11.62933626,  -3.78009981,\n",
      "         -4.03379486,  -1.07675081,  -4.17994205,  -3.11442499,\n",
      "         -8.41237799,  -7.05658718,   7.36978659],\n",
      "       [ -3.24880944,   3.10999599,   7.38720106,   7.35124263,\n",
      "         -6.17612185,  -3.01675914,  -9.36220174, -11.90434028,\n",
      "         -4.81262011,  11.24809897,  -1.17668338],\n",
      "       [  7.16341551,  -5.0313457 , -10.43589164,  -1.71988928,\n",
      "         -5.37842118,  -1.9145802 ,  -4.40152571,  -3.99741137,\n",
      "         -9.50213654,  -2.71411192,   8.43369139],\n",
      "       [ -0.62449721,   2.45115413,   0.36160789,  -2.13804379,\n",
      "         -1.57946171,  -1.65607125,  -3.90462548,  -9.19690883,\n",
      "         -6.68616994,  -3.68353851,   3.92439766],\n",
      "       [  7.33270121,  -5.33153157,  -8.5104175 ,  -5.14018938,\n",
      "         -5.11089627,  -0.57388464,  -2.94405656,  -6.68777483,\n",
      "         -9.08788682,  -3.10788496,   8.92067163],\n",
      "       [  2.92946295,  -2.57095924,  -1.60136732,  10.17190586,\n",
      "         -5.36645888,  -1.01873125,  -5.44452857,  -0.18851608,\n",
      "         -4.71643378,   2.70371289,   6.77439566],\n",
      "       [ -3.9934651 ,   4.6340602 ,   8.72379123,   5.75530709,\n",
      "         -3.22192303,  -6.91335518,  -9.39352393,  -8.91710325,\n",
      "         -6.48086088,   9.79255963,  -2.26104723],\n",
      "       [  6.57584083,  -6.91538464,  -6.14523487,   0.39600471,\n",
      "         -4.14048058,   3.63171626,  -6.07058078,  -4.21660143,\n",
      "         -5.70556242,  -5.39703403,   8.90067969],\n",
      "       [ -7.19149266,   0.42785997,   8.53245639,   7.40743857,\n",
      "         -4.76698547,  -8.13143598, -10.50901144,  -8.27175291,\n",
      "         -6.65362728,   9.97897804,  -1.4561423 ],\n",
      "       [  7.74723778,  -6.706941  ,  -9.53062873,  -2.97734994,\n",
      "         -0.71658371,   1.42720404,  -3.17545421,  -4.67167209,\n",
      "         -7.23976169,  -5.45450858,   7.20024764],\n",
      "       [  2.58926357,   2.1069064 ,   1.77127108,   9.60828602,\n",
      "         -6.88231937,  -2.66411118,  -6.55928841,   2.49619417,\n",
      "         -3.83320254,  -1.75627249,   2.80081394],\n",
      "       [ -2.3384674 ,   3.12317801,   2.31676638,  -1.65987362,\n",
      "         -1.95004087,   0.42446537,  -2.03761762,  -8.27593254,\n",
      "         -7.58303154,  -7.16841011,   5.15528627],\n",
      "       [  5.09980403,  -6.50579443, -10.26662994,  -0.50604396,\n",
      "         -3.95461581,  -1.18057229,  -3.06065185,  -4.27582284,\n",
      "         -7.39111469,  -2.53546985,   9.82247683],\n",
      "       [ -6.01790231,   3.3528344 ,   6.99449087,   7.42756912,\n",
      "         -6.203875  ,  -4.73571037,  -7.96546786,  -8.40250118,\n",
      "         -7.50400552,   6.68653766,  -2.55111799],\n",
      "       [ -1.74668154,   0.79250065,   2.16849758,  -1.52597285,\n",
      "         -2.41263264,  -1.05941125,   0.76697476,  -5.29904978,\n",
      "         -9.16433937,  -9.0989169 ,   5.47420564],\n",
      "       [ -4.71900799,   1.22674377,   1.60221055,  -2.02952395,\n",
      "         -0.38869547,   0.69534562,  -5.11685172,  -8.64583268,\n",
      "         -8.33133702,  -8.86419645,   3.47958755],\n",
      "       [  3.88663841,   2.17064739,   0.25955408,  11.47552047,\n",
      "         -9.37090281,   1.00726403,  -7.25536849,   1.8543897 ,\n",
      "         -4.94413659,   2.57109859,   6.63054441],\n",
      "       [  7.1876793 ,  -4.58616301,  -0.52833772,   9.18335147,\n",
      "         -7.53490058,  -2.30096088,  -2.89453068,  -2.41241695,\n",
      "         -4.16731529,  -0.85681408,   2.6427261 ],\n",
      "       [ -2.92041846,   3.12760626,   7.07221194,   6.57169858,\n",
      "         -6.75804297,  -5.08461784, -10.72554168,  -8.45356575,\n",
      "         -6.66614568,  12.03569025,  -2.31195349],\n",
      "       [  2.28161464,  -2.97595914,  -2.79688346,  10.15177615,\n",
      "         -6.77736679,   0.32375852,  -4.45083532,  -1.22833062,\n",
      "         -3.60808331,   0.09777182,   2.1624023 ],\n",
      "       [ -3.77599477,   3.19188291,   0.29440683,  -0.7637609 ,\n",
      "          0.74549743,  -2.69265083,  -0.63658514,  -8.90989079,\n",
      "         -7.33208343,  -8.81078692,   0.3526025 ],\n",
      "       [  5.51464335,  -5.61816451,  -9.59763825,  -1.13241173,\n",
      "         -4.54353421,  -1.95087845,  -9.42763724,  -4.99508992,\n",
      "         -9.09040798,  -6.26464666,  11.83040719],\n",
      "       [ -3.92958763,   1.08318465,   2.738257  ,  -3.30347957,\n",
      "         -4.21829232,  -2.65095813,  -2.02110186,  -7.03263588,\n",
      "         -6.29635032, -10.51113918,   4.30270428],\n",
      "       [  3.91559645,  -2.01021313,   3.50074859,   6.98751433,\n",
      "         -8.18494728,  -1.85689815,  -9.8131373 ,  -0.06853569,\n",
      "         -4.37008018,  -2.98210847,   4.96698828],\n",
      "       [ -5.75935719,   5.12172779,   7.46739634,   9.31147365,\n",
      "         -6.22078404,  -7.80000427, -10.42086005,  -8.48866679,\n",
      "         -5.46978447,   8.53628675,  -1.13103615],\n",
      "       [ -4.54856503,   4.61149647,   8.40641651,   7.23149912,\n",
      "         -7.25832327,  -8.48934071, -10.40373072,  -9.34551837,\n",
      "         -2.49208828,  10.27455937,  -2.41569184],\n",
      "       [ -3.10611426,   2.32202418,   4.04723721,  -3.04218015,\n",
      "          0.45548211,  -2.76869206,  -1.34623427,  -9.42815761,\n",
      "         -8.40320769,  -9.81527658,   0.96772541],\n",
      "       [ -4.80749691,   2.55589328,   2.75126399,  -1.72647944,\n",
      "         -5.00572542,  -2.19824493,  -2.14449671,  -8.50781881,\n",
      "         -8.96698252,  -9.56543203,   1.70614552],\n",
      "       [  4.7338169 ,  -1.88395248,   0.24018474,   8.07695571,\n",
      "         -7.96562511,  -2.08249968,  -5.00903011,   2.69833824,\n",
      "         -2.17069992,  -1.03954013,   3.61914159],\n",
      "       [ -3.31589214,   2.47098664,   3.61661747,  -0.30464526,\n",
      "         -3.35380318,  -0.23035423,   0.17188873,  -6.52881252,\n",
      "         -9.95481678,  -8.10874545,   3.91461678],\n",
      "       [  6.44309679,  -1.1730319 ,  -1.55994906,  10.0654235 ,\n",
      "         -8.60855702,  -0.92422306,  -5.84752944,   0.24257981,\n",
      "         -4.62653394,   1.35193487,   5.89119473],\n",
      "       [  6.80376294,  -4.60828437, -10.57072977,  -0.35105919,\n",
      "         -5.88121949,   2.82757346,  -0.40147264,  -1.83207888,\n",
      "         -8.06610466,  -2.33158249,  10.1999167 ],\n",
      "       [  3.11149455,   0.65432254,  -0.17315626,  11.32923483,\n",
      "         -6.0001367 ,  -1.41564071,  -7.30069381,  -0.77636227,\n",
      "         -4.70376029,   0.21218164,   3.27957358],\n",
      "       [ -5.49829863,   2.24228782,   2.43590213,  -1.915675  ,\n",
      "         -1.49274549,  -0.86195226,  -1.3605274 ,  -9.27888033,\n",
      "         -9.35386642, -11.05853178,   2.35185586],\n",
      "       [ -3.5495668 ,   4.44892739,   2.59153082,  -2.85408681,\n",
      "         -1.5060264 ,  -4.55503387,   0.83534779, -10.02553773,\n",
      "         -8.04555711,  -7.97765427,   3.31878933],\n",
      "       [ 10.88491381,  -6.48116225, -13.2514782 ,  -1.18284767,\n",
      "         -4.184393  ,   0.0355363 ,  -6.02485821,  -4.21238895,\n",
      "         -6.81063584,  -4.45729255,   8.48607851],\n",
      "       [  5.08544548,  -1.77726437,   0.30698841,   6.07680518,\n",
      "         -9.56819853,  -0.29061695,  -9.43772664,   1.26054823,\n",
      "         -5.13290363,  -1.33375508,   3.20693815],\n",
      "       [  7.94594134,  -6.15178196, -10.57496172,  -2.31285014,\n",
      "         -3.68815521,   3.69420447,  -3.80430188,  -5.59334272,\n",
      "         -5.89864266,  -3.82527224,   7.45159006],\n",
      "       [  6.97550833,  -7.20648569, -10.18187079,   0.50900694,\n",
      "         -3.52688473,  -0.99711883,  -1.9375552 ,  -4.9785392 ,\n",
      "         -8.20118372,  -2.73518055,   7.10042362],\n",
      "       [ -5.71394551,   3.9246646 ,   5.32208451,   7.30541148,\n",
      "         -6.01056581,  -6.98661462,  -8.31236119,  -8.32026985,\n",
      "         -6.59501689,   8.16625612,  -0.67046228],\n",
      "       [ -7.24175193,   2.92438963,   6.62570258,   6.09607795,\n",
      "         -7.14487547,  -4.40341426,  -7.20312686,  -8.93856212,\n",
      "         -5.74831455,   9.98616722,  -2.40731274],\n",
      "       [ -2.2617256 ,   0.57310193,   1.30699374,  -1.64721133,\n",
      "          0.73363608,  -1.34512972,  -0.21771943,  -8.93459214,\n",
      "         -9.3142689 ,  -7.70228743,   4.35594929],\n",
      "       [ -3.4283901 ,   5.76813769,   8.15236556,   5.62774429,\n",
      "         -8.11640874,  -9.30402981,  -8.66789055, -11.44558777,\n",
      "         -6.84404634,  11.79397209,  -1.92280024],\n",
      "       [  5.27575214,  -4.8997089 ,   0.11098889,  12.30545976,\n",
      "         -9.50413567,  -0.67250631,  -4.51924143,  -3.16277657,\n",
      "         -2.05510819,   3.75120263,   5.71355299],\n",
      "       [  7.11788813,  -7.17810656,  -8.70478057,  -2.94016514,\n",
      "         -5.61886592,   1.42748849,  -2.95226775,  -8.4253801 ,\n",
      "         -8.16456235,  -5.28536973,   7.94246063],\n",
      "       [  6.01465898,   1.30373379,   0.53398811,   8.00524167,\n",
      "        -10.98534042,  -0.43361085,  -6.04077848,   1.44658734,\n",
      "         -3.21031472,  -0.40286272,   4.16569192],\n",
      "       [ -4.74195359,   6.30683212,   6.33623737,   5.20368519,\n",
      "         -7.01399652,  -4.88187413, -10.00306476, -11.56070278,\n",
      "         -7.17805788,  10.24044788,  -2.39469012]]), array([1, 0, 1, 0, 1, 0, 3, 0, 2, 1, 0, 1, 0, 2, 3, 0, 1, 3, 3, 2, 2, 1,\n",
      "       2, 3, 0, 3, 2, 1, 1, 3, 3, 2, 3, 2, 0, 2, 3, 3, 0, 2, 0, 0, 1, 1,\n",
      "       3, 1, 2, 0, 2, 1]))\n"
     ]
    }
   ],
   "source": [
    "print(dataset)\n"
   ]
  },
  {
   "cell_type": "code",
   "execution_count": 5,
   "id": "4b7ff8cc-9eb4-41c6-ad4d-f0b5c2b774d9",
   "metadata": {},
   "outputs": [],
   "source": [
    "points = dataset[0]"
   ]
  },
  {
   "cell_type": "code",
   "execution_count": 6,
   "id": "fffd2658-5c99-4f39-b67c-ef4e6add1bc9",
   "metadata": {},
   "outputs": [],
   "source": [
    "from sklearn.cluster import KMeans"
   ]
  },
  {
   "cell_type": "code",
   "execution_count": 7,
   "id": "6e474175-51d7-473e-aaff-6180f4e9315d",
   "metadata": {},
   "outputs": [],
   "source": [
    "Kmeans=KMeans(n_clusters=4)"
   ]
  },
  {
   "cell_type": "code",
   "execution_count": 10,
   "id": "e2ed6393-7532-42db-8f76-12c3748846d4",
   "metadata": {},
   "outputs": [
    {
     "data": {
      "text/plain": [
       "KMeans(n_clusters=4)"
      ]
     },
     "execution_count": 10,
     "metadata": {},
     "output_type": "execute_result"
    }
   ],
   "source": [
    "Kmeans.fit(points)"
   ]
  },
  {
   "cell_type": "code",
   "execution_count": 11,
   "id": "9909456d-2ae4-4c67-880c-8e6a2a11b0db",
   "metadata": {},
   "outputs": [
    {
     "data": {
      "text/plain": [
       "<matplotlib.collections.PathCollection at 0x1c17643c2b0>"
      ]
     },
     "execution_count": 11,
     "metadata": {},
     "output_type": "execute_result"
    },
    {
     "data": {
      "image/png": "[encoded data removed]",
      "text/plain": [
       "<Figure size 432x288 with 1 Axes>"
      ]
     },
     "metadata": {
      "needs_background": "light"
     },
     "output_type": "display_data"
    }
   ],
   "source": [
    "plt.scatter(dataset[0][:,0],dataset[0][:,1])"
   ]
  },
  {
   "cell_type": "code",
   "execution_count": 6,
   "id": "882df7eb-61e2-4a78-8d25-9b7df165de9d",
   "metadata": {},
   "outputs": [
    {
     "data": {
      "text/plain": [
       "<matplotlib.collections.PathCollection at 0x2210a3a94c0>"
      ]
     },
     "execution_count": 6,
     "metadata": {},
     "output_type": "execute_result"
    },
    {
     "data": {
      "image/png": "[encoded data removed]",
      "text/plain": [
       "<Figure size 432x288 with 1 Axes>"
      ]
     },
     "metadata": {
      "needs_background": "light"
     },
     "output_type": "display_data"
    }
   ],
   "source": [
    "plt.scatter(dataset[0][:,0],dataset[0][:,2])"
   ]
  },
  {
   "cell_type": "code",
   "execution_count": null,
   "id": "b6159932-8e5b-4714-b111-ef58021bc132",
   "metadata": {},
   "outputs": [],
   "source": []
  },
  {
   "cell_type": "code",
   "execution_count": 14,
   "id": "76334d9b-d685-4595-9481-73bec3281630",
   "metadata": {},
   "outputs": [],
   "source": []
  },
  {
   "cell_type": "code",
   "execution_count": null,
   "id": "fd6faa33-640a-4d3b-99df-03576262caf1",
   "metadata": {},
   "outputs": [],
   "source": []
  },
  {
   "cell_type": "code",
   "execution_count": null,
   "id": "776d7bfa-c693-4834-96dd-422d6ac219c8",
   "metadata": {},
   "outputs": [],
   "source": []
  },
  {
   "cell_type": "code",
   "execution_count": null,
   "id": "3e90311c-bf37-401d-9a5b-07ae3037a4ba",
   "metadata": {},
   "outputs": [],
   "source": []
  },
  {
   "cell_type": "code",
   "execution_count": null,
   "id": "3a58f176-e5a4-406c-9b9e-ca72509198db",
   "metadata": {},
   "outputs": [],
   "source": []
  }
 ],
 "metadata": {
  "kernelspec": {
   "display_name": "Python 3 (ipykernel)",
   "language": "python",
   "name": "python3"
  },
  "language_info": {
   "codemirror_mode": {
    "name": "ipython",
    "version": 3
   },
   "file_extension": ".py",
   "mimetype": "text/x-python",
   "name": "python",
   "nbconvert_exporter": "python",
   "pygments_lexer": "ipython3",
   "version": "3.9.12"
  }
 },
 "nbformat": 4,
 "nbformat_minor": 5
}
