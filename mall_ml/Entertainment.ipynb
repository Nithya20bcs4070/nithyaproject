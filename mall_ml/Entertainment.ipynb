{
 "cells": [
  {
   "cell_type": "code",
   "execution_count": 1,
   "id": "da08c651",
   "metadata": {},
   "outputs": [],
   "source": [
    "import pandas as pd \n",
    "import numpy as np \n",
    "import matplotlib.pyplot as plt \n",
    "import seaborn as sns"
   ]
  },
  {
   "cell_type": "code",
   "execution_count": 2,
   "id": "da429976",
   "metadata": {},
   "outputs": [],
   "source": [
    "df=pd.read_csv('Customer Dataset.csv')"
   ]
  },
  {
   "cell_type": "code",
   "execution_count": 3,
   "id": "2b9b1b1f",
   "metadata": {},
   "outputs": [
    {
     "data": {
      "text/html": [
       "<div>\n",
       "<style scoped>\n",
       "    .dataframe tbody tr th:only-of-type {\n",
       "        vertical-align: middle;\n",
       "    }\n",
       "\n",
       "    .dataframe tbody tr th {\n",
       "        vertical-align: top;\n",
       "    }\n",
       "\n",
       "    .dataframe thead th {\n",
       "        text-align: right;\n",
       "    }\n",
       "</style>\n",
       "<table border=\"1\" class=\"dataframe\">\n",
       "  <thead>\n",
       "    <tr style=\"text-align: right;\">\n",
       "      <th></th>\n",
       "      <th>Customer ID</th>\n",
       "      <th>Gender</th>\n",
       "      <th>Age</th>\n",
       "      <th>Clothing</th>\n",
       "      <th>Entertainment</th>\n",
       "      <th>Food</th>\n",
       "      <th>Footwear</th>\n",
       "      <th>Spending score of footwear</th>\n",
       "      <th>Spending score of Food</th>\n",
       "      <th>Spending score of Entertainment</th>\n",
       "      <th>Spending score of Clothing</th>\n",
       "    </tr>\n",
       "  </thead>\n",
       "  <tbody>\n",
       "    <tr>\n",
       "      <th>0</th>\n",
       "      <td>1</td>\n",
       "      <td>Male</td>\n",
       "      <td>43</td>\n",
       "      <td>western wear</td>\n",
       "      <td>theatre</td>\n",
       "      <td>chinese</td>\n",
       "      <td>ballerina</td>\n",
       "      <td>15000</td>\n",
       "      <td>51561956</td>\n",
       "      <td>1524933</td>\n",
       "      <td>1562555</td>\n",
       "    </tr>\n",
       "    <tr>\n",
       "      <th>1</th>\n",
       "      <td>2</td>\n",
       "      <td>Male</td>\n",
       "      <td>39</td>\n",
       "      <td>casual wear</td>\n",
       "      <td>kid zone</td>\n",
       "      <td>indian</td>\n",
       "      <td>sneakers</td>\n",
       "      <td>14862</td>\n",
       "      <td>65895626</td>\n",
       "      <td>55241361</td>\n",
       "      <td>1586245</td>\n",
       "    </tr>\n",
       "    <tr>\n",
       "      <th>2</th>\n",
       "      <td>3</td>\n",
       "      <td>Female</td>\n",
       "      <td>44</td>\n",
       "      <td>ethnic wear</td>\n",
       "      <td>theatre</td>\n",
       "      <td>french</td>\n",
       "      <td>crocs</td>\n",
       "      <td>15863</td>\n",
       "      <td>62598566</td>\n",
       "      <td>7586321</td>\n",
       "      <td>2456318</td>\n",
       "    </tr>\n",
       "    <tr>\n",
       "      <th>3</th>\n",
       "      <td>4</td>\n",
       "      <td>Female</td>\n",
       "      <td>38</td>\n",
       "      <td>traditional wear</td>\n",
       "      <td>theatre</td>\n",
       "      <td>american</td>\n",
       "      <td>loafers</td>\n",
       "      <td>9874</td>\n",
       "      <td>91526626</td>\n",
       "      <td>3256321</td>\n",
       "      <td>2014451</td>\n",
       "    </tr>\n",
       "    <tr>\n",
       "      <th>4</th>\n",
       "      <td>5</td>\n",
       "      <td>Female</td>\n",
       "      <td>47</td>\n",
       "      <td>party wear</td>\n",
       "      <td>kid zone</td>\n",
       "      <td>chinese</td>\n",
       "      <td>loafers</td>\n",
       "      <td>10254</td>\n",
       "      <td>51595854</td>\n",
       "      <td>2715236</td>\n",
       "      <td>1547896</td>\n",
       "    </tr>\n",
       "    <tr>\n",
       "      <th>5</th>\n",
       "      <td>6</td>\n",
       "      <td>Female</td>\n",
       "      <td>27</td>\n",
       "      <td>western wear</td>\n",
       "      <td>kid zone</td>\n",
       "      <td>chinese</td>\n",
       "      <td>loafers</td>\n",
       "      <td>20549</td>\n",
       "      <td>26225656</td>\n",
       "      <td>7593100</td>\n",
       "      <td>1354896</td>\n",
       "    </tr>\n",
       "    <tr>\n",
       "      <th>6</th>\n",
       "      <td>7</td>\n",
       "      <td>Male</td>\n",
       "      <td>37</td>\n",
       "      <td>western wear</td>\n",
       "      <td>party time</td>\n",
       "      <td>french</td>\n",
       "      <td>loafers</td>\n",
       "      <td>35791</td>\n",
       "      <td>51215488</td>\n",
       "      <td>1155222</td>\n",
       "      <td>1987456</td>\n",
       "    </tr>\n",
       "    <tr>\n",
       "      <th>7</th>\n",
       "      <td>8</td>\n",
       "      <td>Female</td>\n",
       "      <td>30</td>\n",
       "      <td>western wear</td>\n",
       "      <td>music zone</td>\n",
       "      <td>french</td>\n",
       "      <td>ballerina</td>\n",
       "      <td>25841</td>\n",
       "      <td>26592848</td>\n",
       "      <td>6969632</td>\n",
       "      <td>2144563</td>\n",
       "    </tr>\n",
       "    <tr>\n",
       "      <th>8</th>\n",
       "      <td>9</td>\n",
       "      <td>Male</td>\n",
       "      <td>34</td>\n",
       "      <td>western wear</td>\n",
       "      <td>music zone</td>\n",
       "      <td>indian</td>\n",
       "      <td>ballerina</td>\n",
       "      <td>10256</td>\n",
       "      <td>65629899</td>\n",
       "      <td>1478963</td>\n",
       "      <td>2594996</td>\n",
       "    </tr>\n",
       "    <tr>\n",
       "      <th>9</th>\n",
       "      <td>10</td>\n",
       "      <td>Female</td>\n",
       "      <td>30</td>\n",
       "      <td>casual wear</td>\n",
       "      <td>party time</td>\n",
       "      <td>indian</td>\n",
       "      <td>crocs</td>\n",
       "      <td>54126</td>\n",
       "      <td>59232959</td>\n",
       "      <td>2015694</td>\n",
       "      <td>3541297</td>\n",
       "    </tr>\n",
       "    <tr>\n",
       "      <th>10</th>\n",
       "      <td>11</td>\n",
       "      <td>Female</td>\n",
       "      <td>56</td>\n",
       "      <td>casual wear</td>\n",
       "      <td>kid zone</td>\n",
       "      <td>american</td>\n",
       "      <td>sneakers</td>\n",
       "      <td>15248</td>\n",
       "      <td>32132159</td>\n",
       "      <td>2105638</td>\n",
       "      <td>5584857</td>\n",
       "    </tr>\n",
       "    <tr>\n",
       "      <th>11</th>\n",
       "      <td>12</td>\n",
       "      <td>Female</td>\n",
       "      <td>29</td>\n",
       "      <td>ethnic wear</td>\n",
       "      <td>kid zone</td>\n",
       "      <td>indian</td>\n",
       "      <td>sneakers</td>\n",
       "      <td>36519</td>\n",
       "      <td>56488899</td>\n",
       "      <td>2459319</td>\n",
       "      <td>8452192</td>\n",
       "    </tr>\n",
       "  </tbody>\n",
       "</table>\n",
       "</div>"
      ],
      "text/plain": [
       "    Customer ID  Gender  Age          Clothing Entertainment      Food  \\\n",
       "0             1    Male   43      western wear       theatre   chinese   \n",
       "1             2    Male   39       casual wear      kid zone    indian   \n",
       "2             3  Female   44       ethnic wear       theatre    french   \n",
       "3             4  Female   38  traditional wear       theatre  american   \n",
       "4             5  Female   47        party wear      kid zone   chinese   \n",
       "5             6  Female   27      western wear      kid zone   chinese   \n",
       "6             7    Male   37      western wear    party time    french   \n",
       "7             8  Female   30      western wear    music zone    french   \n",
       "8             9    Male   34      western wear    music zone    indian   \n",
       "9            10  Female   30       casual wear    party time    indian   \n",
       "10           11  Female   56       casual wear      kid zone  american   \n",
       "11           12  Female   29       ethnic wear      kid zone    indian   \n",
       "\n",
       "      Footwear  Spending score of footwear  Spending score of Food  \\\n",
       "0   ballerina                        15000                51561956   \n",
       "1     sneakers                       14862                65895626   \n",
       "2        crocs                       15863                62598566   \n",
       "3      loafers                        9874                91526626   \n",
       "4      loafers                       10254                51595854   \n",
       "5      loafers                       20549                26225656   \n",
       "6      loafers                       35791                51215488   \n",
       "7   ballerina                        25841                26592848   \n",
       "8   ballerina                        10256                65629899   \n",
       "9        crocs                       54126                59232959   \n",
       "10    sneakers                       15248                32132159   \n",
       "11    sneakers                       36519                56488899   \n",
       "\n",
       "    Spending score of Entertainment  Spending score of Clothing  \n",
       "0                           1524933                     1562555  \n",
       "1                          55241361                     1586245  \n",
       "2                           7586321                     2456318  \n",
       "3                           3256321                     2014451  \n",
       "4                           2715236                     1547896  \n",
       "5                           7593100                     1354896  \n",
       "6                           1155222                     1987456  \n",
       "7                           6969632                     2144563  \n",
       "8                           1478963                     2594996  \n",
       "9                           2015694                     3541297  \n",
       "10                          2105638                     5584857  \n",
       "11                          2459319                     8452192  "
      ]
     },
     "execution_count": 3,
     "metadata": {},
     "output_type": "execute_result"
    }
   ],
   "source": [
    "df.head(12)"
   ]
  },
  {
   "cell_type": "code",
   "execution_count": 4,
   "id": "f6b2f6dd",
   "metadata": {},
   "outputs": [
    {
     "data": {
      "text/plain": [
       "Customer ID                        0\n",
       "Gender                             0\n",
       "Age                                0\n",
       "Clothing                           0\n",
       "Entertainment                      0\n",
       "Food                               0\n",
       "Footwear                           0\n",
       "Spending score of footwear         0\n",
       "Spending score of Food             0\n",
       "Spending score of Entertainment    0\n",
       "Spending score of Clothing         0\n",
       "dtype: int64"
      ]
     },
     "execution_count": 4,
     "metadata": {},
     "output_type": "execute_result"
    }
   ],
   "source": [
    "df.isnull().sum()"
   ]
  },
  {
   "cell_type": "code",
   "execution_count": 5,
   "id": "281fe2dd",
   "metadata": {},
   "outputs": [],
   "source": [
    "x=df.iloc[:,[9,10]].values"
   ]
  },
  {
   "cell_type": "code",
   "execution_count": 6,
   "id": "9808bbe0",
   "metadata": {},
   "outputs": [
    {
     "data": {
      "image/png": "[encoded data removed]",
      "text/plain": [
       "<Figure size 432x288 with 1 Axes>"
      ]
     },
     "metadata": {
      "needs_background": "light"
     },
     "output_type": "display_data"
    }
   ],
   "source": [
    "import scipy.cluster.hierarchy as sch\n",
    "dendrogram=sch.dendrogram(sch.linkage(x,method='ward'))\n",
    "plt.title('Dendrogram')\n",
    "plt.xlabel('Customers')\n",
    "plt.ylabel('Euclidean Distances')\n",
    "plt.show()"
   ]
  },
  {
   "cell_type": "code",
   "execution_count": 7,
   "id": "ae3dc783",
   "metadata": {},
   "outputs": [
    {
     "data": {
      "text/plain": [
       "array([2, 3, 1, 2, 2, 1, 2, 1, 2, 2, 4, 4, 2, 1, 1, 1, 1, 1, 1, 1, 0, 1,\n",
       "       1, 0, 1, 0, 4, 1, 4, 2, 2, 1, 4, 2, 1, 1, 1, 4, 0, 0, 2, 4, 0, 2,\n",
       "       1, 2, 2, 1, 2, 1, 0, 0, 0, 1, 4, 2, 2, 4, 2, 1, 1, 2, 2, 0, 0, 2,\n",
       "       2, 2, 4, 2, 1, 1, 1, 2, 4, 0, 4, 2, 0, 2, 2, 1, 4, 2, 0, 1, 0, 0,\n",
       "       4, 0, 0, 2, 0, 0, 0, 1, 1, 2, 1, 0, 0, 0, 4, 0, 0, 0, 0, 1, 2, 1,\n",
       "       2, 0, 4, 1, 0, 4, 2, 0, 0, 4, 2, 3, 0, 2, 2, 1, 4, 0, 4, 2, 2, 4,\n",
       "       0, 4, 2, 2, 4, 4, 1, 4, 0, 1, 4, 4, 2, 0, 4, 4, 2, 4, 0, 1, 1, 2,\n",
       "       0, 1, 0, 0, 1, 0, 0, 2, 0, 0, 2, 0, 2, 1, 0, 1, 1, 1, 2, 2, 2, 0,\n",
       "       0, 0, 1, 1, 1, 4, 1, 0, 1, 0, 1, 4, 0, 1, 4, 1, 0, 0, 1, 2, 1, 1,\n",
       "       0, 0], dtype=int64)"
      ]
     },
     "execution_count": 7,
     "metadata": {},
     "output_type": "execute_result"
    }
   ],
   "source": [
    "from sklearn.cluster import AgglomerativeClustering\n",
    "hc = AgglomerativeClustering(n_clusters=5,affinity='euclidean',linkage='ward')\n",
    "y_hc=hc.fit_predict(x)\n",
    "y_hc"
   ]
  },
  {
   "cell_type": "code",
   "execution_count": 9,
   "id": "f0eb2bd4",
   "metadata": {},
   "outputs": [
    {
     "data": {
      "image/png": "[encoded data removed]",
      "text/plain": [
       "<Figure size 432x288 with 1 Axes>"
      ]
     },
     "metadata": {
      "needs_background": "light"
     },
     "output_type": "display_data"
    }
   ],
   "source": [
    "plt.scatter(x[y_hc==0,0],x[y_hc==0,1],s=50,c='green',label='Cluster 1')\n",
    "plt.scatter(x[y_hc==1,0],x[y_hc==1,1],s=50,c='red',label='Cluster 2')\n",
    "plt.scatter(x[y_hc==2,0],x[y_hc==2,1],s=50,c='yellow',label='Cluster 3')\n",
    "plt.scatter(x[y_hc==3,0],x[y_hc==3,1],s=50,c='black',label='Cluster 4')\n",
    "plt.scatter(x[y_hc==4,0],x[y_hc==4,1],s=50,c='blue',label='Cluster 5')\n",
    "\n",
    "plt.title(\"Clusters of customers\")\n",
    "plt.xlabel(\"Entertainment\")\n",
    "plt.ylabel(\"Spending score of Entertainment\")\n",
    "plt.legend()\n",
    "plt.show()"
   ]
  },
  {
   "cell_type": "code",
   "execution_count": null,
   "id": "2863f83b",
   "metadata": {},
   "outputs": [],
   "source": []
  }
 ],
 "metadata": {
  "kernelspec": {
   "display_name": "Python 3 (ipykernel)",
   "language": "python",
   "name": "python3"
  },
  "language_info": {
   "codemirror_mode": {
    "name": "ipython",
    "version": 3
   },
   "file_extension": ".py",
   "mimetype": "text/x-python",
   "name": "python",
   "nbconvert_exporter": "python",
   "pygments_lexer": "ipython3",
   "version": "3.9.12"
  }
 },
 "nbformat": 4,
 "nbformat_minor": 5
}
